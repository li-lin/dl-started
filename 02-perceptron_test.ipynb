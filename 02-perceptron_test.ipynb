{
 "cells": [
  {
   "cell_type": "markdown",
   "id": "38f3e0d9-87c0-4d3e-96c5-208324d324c0",
   "metadata": {},
   "source": [
    "### 简单感知机"
   ]
  },
  {
   "cell_type": "markdown",
   "id": "07d5c491-aa1e-474a-ba24-65603ef3be97",
   "metadata": {},
   "source": [
    "感知机是一种线性分类模型，可以用来实现简单的逻辑门（如与门、或门、与非门）。它的基本工作原理如下：\n",
    "输入：感知机接收多个输入，每个输入有一个权重（weight）与之对应。\n",
    "加权和：每个输入乘以其对应的权重，然后将这些乘积相加，得到加权和。\n",
    "激活函数：加权和通过激活函数（通常是一个阈值函数）转换为输出。如果加权和超过某个阈值，感知机输出1；否则输出0。\n",
    "\n",
    "逻辑门的实现就是通过找到合适的权重和阈值，使得感知机在给定输入时输出正确的逻辑结果。"
   ]
  },
  {
   "cell_type": "code",
   "execution_count": 1,
   "id": "7cdaf09a-edd0-4de7-986d-a4680664d6ec",
   "metadata": {},
   "outputs": [
    {
     "name": "stdout",
     "output_type": "stream",
     "text": [
      "0\n",
      "0\n",
      "0\n",
      "1\n"
     ]
    }
   ],
   "source": [
    "# 简单的实现\n",
    "def AND(x1, x2):\n",
    "    w1, w2, theta = 0.5, 0.5, 0.7\n",
    "    tmp = x1*w1 + x2*w2\n",
    "    if tmp <= theta:\n",
    "        return 0\n",
    "    elif tmp > theta:\n",
    "        return 1\n",
    "\n",
    "print(AND(0,0))\n",
    "print(AND(0,1))\n",
    "print(AND(1,0))\n",
    "print(AND(1,1))"
   ]
  },
  {
   "cell_type": "markdown",
   "id": "55b42d73-bd16-49f1-83c3-92a2f236e059",
   "metadata": {},
   "source": [
    "理解与门的实现过程：\n",
    "由于AND(x1, x2)的结果只有4中可能：\n",
    "0 0 = 0；0 1 = 0；1 0 = 0；1 1 = 1\n",
    "那么函数f(x1, x2)=x1*w1 + x2*w2 + b的结果大于或等于0时，结果为1，小于0时，结果为0。\n",
    "可以人工推导出成立的条件是：w1 + b < 0 且 w2 + b < 0 且 w1 + w2 + b >=0\n",
    "那么，可以假设b为-1，w1可以为0.6，w2可以为0.7，这样的组合是无穷的。\n",
    "但是，只要确定满足以上条件的w和b，函数f(x1, x2)就确定下来了，也就得到了一个与门函数（感知机）。"
   ]
  },
  {
   "cell_type": "code",
   "execution_count": 2,
   "id": "1a2e5f6e-411e-4363-b749-2c75ffc0f022",
   "metadata": {},
   "outputs": [
    {
     "name": "stdout",
     "output_type": "stream",
     "text": [
      "0\n",
      "0\n",
      "0\n",
      "1\n"
     ]
    }
   ],
   "source": [
    "# 使用NumPy实现，并将theta换成-b，即将x1*w1+x2*w2<=theta，换成: b+x1*w1+x2*w2<=0。\n",
    "import numpy as np\n",
    "def ANDN(x1, x2):\n",
    "    x = np.array([x1, x2])\n",
    "    w = np.array([0.5, 0.5]) #权重\n",
    "    b = -0.7 #偏置\n",
    "    tmp = np.sum(x*w)+b #np.sum是将矩阵x和w的乘积求和\n",
    "    if tmp <= 0:\n",
    "        return 0\n",
    "    elif tmp > 0:\n",
    "        return 1\n",
    "\n",
    "print(ANDN(0,0))\n",
    "print(ANDN(0,1))\n",
    "print(ANDN(1,0))\n",
    "print(ANDN(1,1))"
   ]
  },
  {
   "cell_type": "code",
   "execution_count": 3,
   "id": "c8f5b90d-0cdd-440c-a717-466fb2d85a98",
   "metadata": {},
   "outputs": [
    {
     "name": "stdout",
     "output_type": "stream",
     "text": [
      "0\n",
      "1\n",
      "1\n",
      "1\n"
     ]
    }
   ],
   "source": [
    "#使用Numpy实现与非门和或门。\n",
    "def NAND(x1, x2):\n",
    "    x = np.array([x1, x2])\n",
    "    w = np.array([-0.5, -0.5]) #权重和偏置与AND不同\n",
    "    b = 0.7\n",
    "    tmp = np.sum(w * x) + b\n",
    "    if(tmp <= 0):\n",
    "        return 0\n",
    "    else:\n",
    "        return 1\n",
    "\n",
    "print(NAND(1, 1))\n",
    "print(NAND(0, 0))\n",
    "print(NAND(1, 0))\n",
    "\n",
    "def OR(x1, x2):\n",
    "    x = np.array([x1, x2])\n",
    "    w = np.array([0.5, 0.5])\n",
    "    b = -0.2\n",
    "    tmp = np.sum(x*w) + b\n",
    "    if(tmp <= 0):\n",
    "        return 0\n",
    "    else:\n",
    "        return 1\n",
    "    \n",
    "print(OR(0, 1))"
   ]
  },
  {
   "cell_type": "markdown",
   "id": "56710225-a248-4bff-a93e-ad31a041cfdf",
   "metadata": {},
   "source": [
    "异或门的实现：\n",
    "异或的规则为0 0 : 1, 1 0 : 1, 0 1 : 1, 1 1 : 1。如果直接通过以上f(x)=wx+b函数来计算，是无法得到确切的w和b。\n",
    "那么，考虑结果要为0 1 1 0，就可以将一个异或门拆解为两个步骤，先得到两个中间结果，再由这两个中间结果继续进行计算。\n",
    "比如：先采用一个与非门和一或门分别得到结果，再将结果通过与门进行计算，得到0 1 1 0。"
   ]
  },
  {
   "cell_type": "code",
   "execution_count": 4,
   "id": "66c2a407-ec5a-4f2d-a639-086aa6b8b39b",
   "metadata": {},
   "outputs": [
    {
     "name": "stdout",
     "output_type": "stream",
     "text": [
      "1\n",
      "0\n",
      "0\n"
     ]
    }
   ],
   "source": [
    "# 利用多层感知机，异或门。\n",
    "# 组合NAND和OR作为第一层，AND作为第二层，输出结果即为XOR的结果。\n",
    "def XOR(x1, x2):\n",
    "    s1 = NAND(x1, x2)\n",
    "    print(s1)\n",
    "    s2 = OR(x1, x2)\n",
    "    print(s2)\n",
    "    y = AND(s1, s2)\n",
    "    return y\n",
    "\n",
    "print(XOR(0, 0))\n",
    "# print(XOR(0, 1))\n",
    "# print(XOR(1, 0))\n",
    "# print(XOR(1, 1))"
   ]
  },
  {
   "cell_type": "markdown",
   "id": "61a27f23-202e-4fde-8264-c7d2f27256b0",
   "metadata": {},
   "source": [
    "以上各个逻辑门的实现中所采用的f(x)=wx+b为线性变换函数，用于表达权重w和偏置b对输入x的影响，从给表达一种逻辑门模型。\n",
    "\n",
    "线性变换在神经网络中的目的主要有以下几个方面：\n",
    "\n",
    "1. 计算加权和：\n",
    "线性变换通过权重w和偏置b对输入x进行加权求和：\n",
    "z=wx+b\n",
    "这一步将输入数据与每个神经元的权重结合起来，产生一个加权和。这个加权和表示的是输入数据在当前神经元上的总影响力。\n",
    "\n",
    "2. 数据压缩与扩展：\n",
    "在输入数据通过多个神经元和层级传递时，线性变换起到了对数据的压缩和扩展的作用。通过不同层次和神经元数量的设置，网络可以学习到数据中的多层次特征。\n",
    "\n",
    "3. 提供学习参数：\n",
    "权重w和偏置b是神经网络的可学习参数。通过训练过程，这些参数不断调整，以最小化损失函数（表示预测与实际值之间的误差）。线性变换中的权重和偏置为优化算法提供了调整的基础。\n",
    "\n",
    "4. 特征提取：\n",
    "线性变换可以看作是对输入数据的一种特征提取方式。在初始层，权重可能用于捕捉输入数据的基本模式（如图像的边缘）。在深层网络中，权重可能表示更高层次的特征（如图像中的特定物体）。\n",
    "\n",
    "5. 输入与输出之间的映射：\n",
    "线性变换将输入向量x映射到一个新的空间。这个新的空间通过权重和偏置的调整，逐步逼近目标输出。不同的权重和偏置组合可以表示不同的映射关系，这使得神经网络能够适应各种复杂的函数和模式。"
   ]
  }
 ],
 "metadata": {
  "kernelspec": {
   "display_name": "learning-env",
   "language": "python",
   "name": "python3"
  },
  "language_info": {
   "codemirror_mode": {
    "name": "ipython",
    "version": 3
   },
   "file_extension": ".py",
   "mimetype": "text/x-python",
   "name": "python",
   "nbconvert_exporter": "python",
   "pygments_lexer": "ipython3",
   "version": "3.8.20"
  }
 },
 "nbformat": 4,
 "nbformat_minor": 5
}
