{
 "cells": [
  {
   "cell_type": "code",
   "execution_count": 1,
   "id": "76f3a528-8ec2-44e5-a2da-20667d766d58",
   "metadata": {
    "tags": []
   },
   "outputs": [
    {
     "name": "stdout",
     "output_type": "stream",
     "text": [
      "hi jupyter-lab\n"
     ]
    }
   ],
   "source": [
    "print('hi jupyter-lab')"
   ]
  },
  {
   "cell_type": "code",
   "execution_count": 1,
   "id": "d58ab70e-e302-42b5-8f97-30b61ee853b8",
   "metadata": {},
   "outputs": [
    {
     "name": "stdout",
     "output_type": "stream",
     "text": [
      "<class 'int'>\n",
      "<class 'float'>\n",
      "<class 'complex'>\n"
     ]
    }
   ],
   "source": [
    "x=42\n",
    "y=-3.14\n",
    "z=2+3j\n",
    "print(type(x))\n",
    "print(type(y))\n",
    "print(type(z))"
   ]
  },
  {
   "cell_type": "code",
   "execution_count": 5,
   "id": "d3a4b7ee-0cf6-47de-a9aa-7316d0cb918b",
   "metadata": {},
   "outputs": [
    {
     "name": "stdout",
     "output_type": "stream",
     "text": [
      "42\n",
      "3.0\n",
      "(3+0j)\n",
      "42.0\n"
     ]
    }
   ],
   "source": [
    "x=42.0\n",
    "y=3\n",
    "x_to_int=int(x)\n",
    "print(x_to_int)\n",
    "y_to_float=float(y)\n",
    "print(y_to_float)\n",
    "y_to_complex=complex(y)\n",
    "print(y_to_complex)\n",
    "x_to_str=str(x)\n",
    "print(x_to_str)"
   ]
  },
  {
   "cell_type": "code",
   "execution_count": 7,
   "id": "4e8e22e3-125e-403d-87b1-5d0abd008c91",
   "metadata": {},
   "outputs": [
    {
     "name": "stdout",
     "output_type": "stream",
     "text": [
      "3.141592653589793\n",
      "2.718281828459045\n",
      "1.4142135623730951\n"
     ]
    }
   ],
   "source": [
    "import math\n",
    "\n",
    "print(math.pi)\n",
    "print(math.e)\n",
    "print(math.sqrt(2))"
   ]
  },
  {
   "cell_type": "code",
   "execution_count": 12,
   "id": "c8cc4ac2-c96e-437c-89cf-ec3a9ee1838a",
   "metadata": {},
   "outputs": [
    {
     "name": "stdout",
     "output_type": "stream",
     "text": [
      "I am learning Python 101!\n",
      "Python is fun. Machine learning can be fun too.\n",
      "Hey, James!\n",
      "Scikit-Learn is fun! Scikit-Learn is fun! Scikit-Learn is fun! \n",
      "123123123\n",
      "456123\n",
      "<class 'str'>\n"
     ]
    }
   ],
   "source": [
    "str1='I am learning Python 101!'\n",
    "print(str1)\n",
    "\n",
    "str2=\"Python is fun. Machine learning can be fun too.\"\n",
    "print(str2)\n",
    "\n",
    "str4=\"Hey, \" + \"James!\"\n",
    "print(str4)\n",
    "\n",
    "str5=\"Scikit-Learn is fun! \"\n",
    "str6=str5 * 3\n",
    "print(str6)\n",
    "\n",
    "str7='123'\n",
    "str8=str7 * 3\n",
    "print(str8)\n",
    "\n",
    "str9='456'\n",
    "str10=str9+str7\n",
    "print(str10)\n",
    "print(type(str10))"
   ]
  },
  {
   "cell_type": "code",
   "execution_count": 15,
   "id": "53a88df7-4816-49aa-b5ab-f03c157a74df",
   "metadata": {},
   "outputs": [
    {
     "name": "stdout",
     "output_type": "stream",
     "text": [
      "Length:\n",
      "11\n",
      "char: H, index: 0\n",
      "char: e, index: 1\n",
      "char: y, index: 2\n",
      "char: ,, index: 3\n",
      "char:  , index: 4\n",
      "char: J, index: 5\n",
      "char: a, index: 6\n",
      "char: m, index: 7\n",
      "char: e, index: 8\n",
      "char: s, index: 9\n",
      "char: !, index: 10\n",
      "H\n",
      "e\n",
      "!\n",
      "s\n",
      "Hey\n",
      "ey, J\n",
      "Hy ae!\n",
      "!semaJ ,yeH\n"
     ]
    }
   ],
   "source": [
    "greeting_str='Hey, James!'\n",
    "\n",
    "print('Length:')\n",
    "print(len(greeting_str))\n",
    "\n",
    "for index, char in enumerate(greeting_str):\n",
    "    print(f'char: {char}, index: {index}')\n",
    "    \n",
    "print(greeting_str[0])\n",
    "print(greeting_str[1])\n",
    "\n",
    "print(greeting_str[-1])\n",
    "print(greeting_str[-2])\n",
    "\n",
    "print(greeting_str[:3])\n",
    "\n",
    "print(greeting_str[1:6])\n",
    "\n",
    "# string[start: end: step]\n",
    "print(greeting_str[::2])\n",
    "\n",
    "print(greeting_str[::-1])"
   ]
  },
  {
   "cell_type": "code",
   "execution_count": 1,
   "id": "009069cc-7bc5-433e-8430-ed5529935c36",
   "metadata": {},
   "outputs": [
    {
     "name": "stdout",
     "output_type": "stream",
     "text": [
      "Initialized\n",
      "Hello David!\n",
      "Good-bye David!\n"
     ]
    }
   ],
   "source": [
    "class Man:\n",
    "    def __init__(self, name):\n",
    "        self.name=name\n",
    "        print(\"Initialized\")\n",
    "        \n",
    "    def hello(self):\n",
    "        print(\"Hello \" + self.name + \"!\")\n",
    "    \n",
    "    def goodbye(self):\n",
    "        print(\"Good-bye \" + self.name + \"!\")\n",
    "        \n",
    "\n",
    "m=Man(\"David\")\n",
    "m.hello()\n",
    "m.goodbye()"
   ]
  }
 ],
 "metadata": {
  "kernelspec": {
   "display_name": "learning-env",
   "language": "python",
   "name": "python3"
  },
  "language_info": {
   "codemirror_mode": {
    "name": "ipython",
    "version": 3
   },
   "file_extension": ".py",
   "mimetype": "text/x-python",
   "name": "python",
   "nbconvert_exporter": "python",
   "pygments_lexer": "ipython3",
   "version": "3.8.20"
  }
 },
 "nbformat": 4,
 "nbformat_minor": 5
}
