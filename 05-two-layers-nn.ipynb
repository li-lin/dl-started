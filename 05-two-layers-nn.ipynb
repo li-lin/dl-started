{
 "cells": [
  {
   "cell_type": "markdown",
   "metadata": {},
   "source": [
    "# 误差方向传播法的实现"
   ]
  },
  {
   "cell_type": "code",
   "execution_count": 1,
   "metadata": {},
   "outputs": [],
   "source": [
    "import numpy as np\n",
    "from common.functions import *\n",
    "from common.layers import *\n",
    "from common.gradient import numerical_gradient\n",
    "from collections import OrderedDict\n",
    "\n",
    "class TwoLayerNet:\n",
    "    def __init__(self, input_size, hidden_size, output_size, weight_init_std=0.01):\n",
    "        # 初始化权重\n",
    "        self.params = {}\n",
    "        self.params['W1'] = weight_init_std * np.random.randn(input_size, hidden_size)\n",
    "        self.params['b1'] = np.zeros(hidden_size)\n",
    "        self.params['W2'] = weight_init_std * np.random.randn(hidden_size, output_size)\n",
    "        self.params['b2'] = np.zeros(output_size)\n",
    "\n",
    "        # 生成层\n",
    "        self.layers = OrderedDict()\n",
    "        self.layers['Affine1'] = Affine(self.params['W1'], self.params['b1']) # 输入层到隐藏层的权重和偏置\n",
    "        self.layers['Relu1'] = Relu() # 隐藏层，Relu激活函数\n",
    "        self.layers['Affine2'] = Affine(self.params['W2'], self.params['b2']) # 隐藏层到输出层的权重和偏置\n",
    "        self.lastLayer = SoftmaxWithLoss() # 输出层，SoftmaxWithLoss损失函数\n",
    "\n",
    "    def predict(self, x):\n",
    "        # 前向传播, 计算预测值\n",
    "        for layer in self.layers.values():\n",
    "            x = layer.forward(x)\n",
    "        return x\n",
    "    \n",
    "    def loss(self, x, t):\n",
    "        # 前向传播, 计算损失\n",
    "        y = self.predict(x)\n",
    "        return self.lastLayer.forward(y, t)\n",
    "    \n",
    "    def accuracy(self, x, t):\n",
    "        y = self.predict(x)\n",
    "        y = np.argmax(y, axis=1)\n",
    "        if t.ndim != 1 : t = np.argmax(t, axis=1)\n",
    "        accuracy = np.sum(y == t) / float(x.shape[0])\n",
    "        return accuracy\n",
    "    \n",
    "    def numerical_gradient(self, x, t):\n",
    "        # 计算梯度, 数值微分\n",
    "        loss_W = lambda W: self.loss(x, t)\n",
    "        grads = {}\n",
    "        grads['W1'] = numerical_gradient(loss_W, self.params['W1'])\n",
    "        grads['b1'] = numerical_gradient(loss_W, self.params['b1'])\n",
    "        grads['W2'] = numerical_gradient(loss_W, self.params['W2'])\n",
    "        grads['b2'] = numerical_gradient(loss_W, self.params['b2'])\n",
    "        return grads\n",
    "    \n",
    "    def gradient(self, x, t):\n",
    "        # 计算梯度, 反向传播\n",
    "        self.loss(x, t) # 计算损失\n",
    "\n",
    "        dout = 1\n",
    "        dout = self.lastLayer.backward(dout)\n",
    "        layers = list(self.layers.values())\n",
    "        layers.reverse() # 反转各层顺序，从后往前，反向传播。\n",
    "        for layer in layers:\n",
    "            dout = layer.backward(dout)\n",
    "\n",
    "        grads = {}\n",
    "        grads['W1'], grads['b1'] = self.layers['Affine1'].dW, self.layers['Affine1'].db\n",
    "        grads['W2'], grads['b2'] = self.layers['Affine2'].dW, self.layers['Affine2'].db\n",
    "\n",
    "        return grads\n"
   ]
  },
  {
   "cell_type": "markdown",
   "metadata": {},
   "source": [
    "### 误差反向传播法的梯度确认\n",
    "\n",
    "目前，已经了解了两种梯度计算方法：基于数值微分法和基于误差反向传播法。后者，即误差反向传播法，是深度学习领域中常用的梯度计算方法，即使存在大量的参数，也可以高效地计算梯度。\n",
    "\n",
    "虽然数值微分用在梯度计算中效率不高，但数值微分法可以用来确认梯度计算结果是否正确。\n",
    "\n",
    "确认数值微分求出的梯度结果和误差反向传播法求出的结果是否一致（严格地讲，是非常相近）的操作称为**梯度确认（gradient check）**。"
   ]
  },
  {
   "cell_type": "code",
   "execution_count": 3,
   "metadata": {},
   "outputs": [
    {
     "name": "stdout",
     "output_type": "stream",
     "text": [
      "Loading dataset ...\n",
      "W1: 0.0004942659786859975\n",
      "b1: 0.0029082249047275386\n",
      "W2: 0.005785432008109274\n",
      "b2: 0.28001949666875\n"
     ]
    }
   ],
   "source": [
    "import numpy as np\n",
    "from dataset.mnist import load_mnist\n",
    "\n",
    "# 读入数据\n",
    "(x_train, t_train), (x_test, t_test) = load_mnist(normolize=True, one_hot_label=True)\n",
    "\n",
    "network = TwoLayerNet(input_size=784, hidden_size=10, output_size=10)\n",
    "x_batch = x_train[ : 3]\n",
    "t_batch = t_train[ : 3]\n",
    "\n",
    "grad_numerical = network.numerical_gradient(x_batch, t_batch)\n",
    "grad_backprop = network.gradient(x_batch, t_batch)\n",
    "\n",
    "# 求各个权重的绝对误差的平均值\n",
    "for key in grad_numerical.keys():\n",
    "    diff = np.average(np.abs(grad_backprop[key] - grad_numerical[key]))\n",
    "    print(key + \": \" + str(diff))\n"
   ]
  },
  {
   "cell_type": "markdown",
   "metadata": {},
   "source": [
    "以上代码，使用了训练数据的一部分，确认数值微分求出的梯度与误差反向传播求出的梯度之间的误差。这里误差的计算方法是，求各个权重参数中对应元素的差的绝对值，并求平均值。\n",
    "\n",
    "可以看出，通过数值微分和反向误差传播法求出的梯度差异非常小。从而，可知误差反向传播法求出的梯度是正确的。\n",
    "\n",
    "> 一般来说，数值微分法求出的梯度与误差反向传播法求出的梯度差异在1e-5左右。但是，如果梯度差异大于1e-5，则说明误差反向传播法求出的梯度有误。"
   ]
  },
  {
   "cell_type": "markdown",
   "metadata": {},
   "source": [
    "### 使用误差方向传播法进行训练"
   ]
  },
  {
   "cell_type": "code",
   "execution_count": 7,
   "metadata": {},
   "outputs": [
    {
     "name": "stdout",
     "output_type": "stream",
     "text": [
      "Loading dataset ...\n",
      "train acc, test acc | 0.15108333333333332, 0.1574\n",
      "train acc, test acc | 0.9047, 0.9082\n",
      "train acc, test acc | 0.9262333333333334, 0.9291\n",
      "train acc, test acc | 0.9372333333333334, 0.9353\n",
      "train acc, test acc | 0.9446833333333333, 0.9426\n",
      "train acc, test acc | 0.9502833333333334, 0.9465\n",
      "train acc, test acc | 0.9559666666666666, 0.953\n",
      "train acc, test acc | 0.9571333333333333, 0.9523\n",
      "train acc, test acc | 0.9625166666666667, 0.9583\n",
      "train acc, test acc | 0.96535, 0.9603\n",
      "train acc, test acc | 0.9676666666666667, 0.9632\n",
      "train acc, test acc | 0.97015, 0.9644\n",
      "train acc, test acc | 0.9712333333333333, 0.9641\n",
      "train acc, test acc | 0.9742, 0.9652\n",
      "train acc, test acc | 0.9744666666666667, 0.9658\n",
      "train acc, test acc | 0.9770666666666666, 0.967\n",
      "train acc, test acc | 0.9767, 0.9663\n",
      "Finished!\n"
     ]
    },
    {
     "data": {
      "image/png": "[encoded data removed]",
      "text/plain": [
       "<Figure size 432x288 with 1 Axes>"
      ]
     },
     "metadata": {
      "needs_background": "light"
     },
     "output_type": "display_data"
    }
   ],
   "source": [
    "import numpy as np\n",
    "from dataset.mnist import load_mnist\n",
    "from common.two_layers_net import TwoLayerNet\n",
    "\n",
    " # 读入数据\n",
    "(x_train, t_train), (x_test, t_test) = load_mnist(normolize=True, one_hot_label=True)\n",
    "\n",
    "network = TwoLayerNet(input_size=784, hidden_size=50, output_size=10)\n",
    "\n",
    "iters_num = 10000 # 迭代次数\n",
    "train_size = x_train.shape[0] # 训练集大小\n",
    "batch_size = 100 # 每次训练的大小\n",
    "learning_rate = 0.1 # 学习率\n",
    "\n",
    "train_loss_list = []\n",
    "train_acc_list = []\n",
    "test_acc_list = []\n",
    "\n",
    "# 开始训练\n",
    "iter_per_epoch = max(train_size / batch_size, 1) # 每个epoch需要迭代的次数\n",
    "\n",
    "for i in range(iters_num):\n",
    "    batch_mask = np.random.choice(train_size, batch_size) # 随机选择一个批次的数据。即，在0-train_size中随机选择batch_size个数据。\n",
    "    x_batch = x_train[batch_mask]\n",
    "    t_batch = t_train[batch_mask]\n",
    "\n",
    "    # 通过反向传播计算梯度，loss_b是本轮训练后，更新参数之前的loss值。\n",
    "    grad, loss_b = network.gradient(x_batch, t_batch) # 计算梯度\n",
    "\n",
    "    # 更新参数\n",
    "    for key in ('W1', 'b1', 'W2', 'b2'):\n",
    "        network.params[key] -= learning_rate * grad[key]\n",
    "    \n",
    "    # 更新参数后的，本轮训练的loss值。\n",
    "    loss_a = network.loss(x_batch, t_batch)\n",
    "    train_loss_list.append(loss_a)\n",
    "\n",
    "    if i % iter_per_epoch == 0:\n",
    "        train_acc = network.accuracy(x_train, t_train)\n",
    "        test_acc = network.accuracy(x_test, t_test)\n",
    "        train_acc_list.append(train_acc)\n",
    "        test_acc_list.append(test_acc)\n",
    "        print(\"train acc, test acc | \" + str(train_acc) + \", \" + str(test_acc))\n",
    "\n",
    "print(\"Finished!\")\n",
    "\n",
    "# 绘制loss曲线\n",
    "import matplotlib.pyplot as plt\n",
    "plt.plot(np.arange(len(train_acc_list)), train_acc_list, label=\"train acc\")\n",
    "plt.plot(np.arange(len(test_acc_list)), test_acc_list, label=\"test acc\", linestyle='--')\n",
    "plt.xlabel(\"epoch count\")\n",
    "plt.ylabel(\"accuracy\")\n",
    "plt.ylim([-0.1, 1.1]) # 设置y轴的取值范围\n",
    "plt.legend(loc=\"lower right\")\n",
    "plt.show()"
   ]
  }
 ],
 "metadata": {
  "kernelspec": {
   "display_name": "base",
   "language": "python",
   "name": "python3"
  },
  "language_info": {
   "codemirror_mode": {
    "name": "ipython",
    "version": 3
   },
   "file_extension": ".py",
   "mimetype": "text/x-python",
   "name": "python",
   "nbconvert_exporter": "python",
   "pygments_lexer": "ipython3",
   "version": "3.9.7"
  }
 },
 "nbformat": 4,
 "nbformat_minor": 2
}
