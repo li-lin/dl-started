{
 "cells": [
  {
   "cell_type": "code",
   "execution_count": 2,
   "id": "29968a61-9fbd-4aa6-923a-c7c9e3087652",
   "metadata": {},
   "outputs": [],
   "source": [
    "import numpy as np"
   ]
  },
  {
   "cell_type": "markdown",
   "id": "cec02c61-cb87-4975-a89d-9a488ec95bbb",
   "metadata": {},
   "source": [
    "### 多维数组的运算"
   ]
  },
  {
   "cell_type": "code",
   "execution_count": 3,
   "id": "347f74df-9a71-4695-8376-7022aedc2d2f",
   "metadata": {},
   "outputs": [
    {
     "name": "stdout",
     "output_type": "stream",
     "text": [
      "[1 2 3 4]\n"
     ]
    },
    {
     "data": {
      "text/plain": [
       "4"
      ]
     },
     "execution_count": 3,
     "metadata": {},
     "output_type": "execute_result"
    }
   ],
   "source": [
    "A = np.array([1,2,3,4])\n",
    "print(A)\n",
    "np.ndim(A)\n",
    "A.shape\n",
    "A.shape[0]"
   ]
  },
  {
   "cell_type": "code",
   "execution_count": 4,
   "id": "d47de09e-5de7-4bf7-b8ee-cd58043a4c28",
   "metadata": {},
   "outputs": [
    {
     "name": "stdout",
     "output_type": "stream",
     "text": [
      "[[1 2]\n",
      " [3 4]\n",
      " [5 6]]\n",
      "2\n",
      "(3, 2)\n",
      "[1 2 3 4]\n",
      "1\n",
      "(4,)\n",
      "[[1 2]\n",
      " [3 4]]\n",
      "2\n",
      "(2, 2)\n"
     ]
    }
   ],
   "source": [
    "B = np.array([[1,2],[3,4],[5,6]])\n",
    "print(B)\n",
    "print(np.ndim(B)) # ndim是获取数组的维度\n",
    "print(B.shape) # shape是获取数组的形状\n",
    "\n",
    "A = np.array([1,2,3,4])\n",
    "print(A)\n",
    "print(np.ndim(A))\n",
    "print(A.shape)\n",
    "\n",
    "C = np.array([[1,2],[3,4]])\n",
    "print(C)\n",
    "print(np.ndim(C))\n",
    "print(C.shape)"
   ]
  },
  {
   "cell_type": "markdown",
   "id": "50639b4a-7cfd-4b9e-aab3-925852bd6c81",
   "metadata": {},
   "source": [
    "#### 矩阵乘法"
   ]
  },
  {
   "cell_type": "code",
   "execution_count": null,
   "id": "55b23846-0d80-41f5-aa1e-abc1ad09c1e5",
   "metadata": {},
   "outputs": [
    {
     "name": "stdout",
     "output_type": "stream",
     "text": [
      "(2, 2)\n",
      "[[19 22]\n",
      " [43 50]]\n",
      "[[23 34]\n",
      " [31 46]]\n"
     ]
    }
   ],
   "source": [
    "A = np.array([[1,2], [3,4]])\n",
    "print(A.shape)\n",
    "B = np.array([[5,6], [7,8]])\n",
    "r1 = np.dot(A, B) # A的行依次乘以B的列的和作为结果矩阵的元素。\n",
    "r2 = np.dot(B, A)\n",
    "print(r1)\n",
    "print(r2) # r1与r2不同，即两个矩阵的点积顺序不同，结果也就不同。"
   ]
  },
  {
   "cell_type": "code",
   "execution_count": 12,
   "id": "bb3b0841-717b-44f1-8bd9-0f30fc3f54ca",
   "metadata": {},
   "outputs": [
    {
     "name": "stdout",
     "output_type": "stream",
     "text": [
      "[[22 28]\n",
      " [49 64]]\n",
      "[[ 9 12 15]\n",
      " [19 26 33]\n",
      " [29 40 51]]\n"
     ]
    }
   ],
   "source": [
    "A = np.array([[1,2,3],[4,5,6]])\n",
    "B = np.array([[1,2],[3,4],[5,6]])\n",
    "r3 = np.dot(A, B)\n",
    "r4 = np.dot(B, A)\n",
    "print(r3)\n",
    "print(r4)"
   ]
  },
  {
   "cell_type": "markdown",
   "id": "ab5102a8-b197-48cd-a71e-5454438c4518",
   "metadata": {},
   "source": [
    "> 矩阵乘法需要满足A矩阵(n, m)且B矩阵(m, k)，结果为形状为(n, k)的矩阵。如果A和B都是(n, n)，A * B 和 B * A是不同的。\n",
    ">由于矩阵的乘法规则是A矩阵的行乘以B矩阵的列之和，产生新矩阵的元素。因此，A矩阵的第1维元素个数应该与B矩阵的第0维元素个数相同, 否则会报错。"
   ]
  },
  {
   "cell_type": "code",
   "execution_count": 13,
   "id": "5b4db7ce-cdbf-497a-be2f-758bde01313e",
   "metadata": {},
   "outputs": [
    {
     "ename": "ValueError",
     "evalue": "shapes (2,3) and (2,2) not aligned: 3 (dim 1) != 2 (dim 0)",
     "output_type": "error",
     "traceback": [
      "\u001b[1;31m---------------------------------------------------------------------------\u001b[0m",
      "\u001b[1;31mValueError\u001b[0m                                Traceback (most recent call last)",
      "Cell \u001b[1;32mIn[13], line 2\u001b[0m\n\u001b[0;32m      1\u001b[0m C \u001b[38;5;241m=\u001b[39m np\u001b[38;5;241m.\u001b[39marray([[\u001b[38;5;241m1\u001b[39m,\u001b[38;5;241m2\u001b[39m],[\u001b[38;5;241m3\u001b[39m,\u001b[38;5;241m4\u001b[39m]])\n\u001b[1;32m----> 2\u001b[0m r5 \u001b[38;5;241m=\u001b[39m \u001b[43mnp\u001b[49m\u001b[38;5;241;43m.\u001b[39;49m\u001b[43mdot\u001b[49m\u001b[43m(\u001b[49m\u001b[43mA\u001b[49m\u001b[43m,\u001b[49m\u001b[43m \u001b[49m\u001b[43mC\u001b[49m\u001b[43m)\u001b[49m\n",
      "File \u001b[1;32m<__array_function__ internals>:200\u001b[0m, in \u001b[0;36mdot\u001b[1;34m(*args, **kwargs)\u001b[0m\n",
      "\u001b[1;31mValueError\u001b[0m: shapes (2,3) and (2,2) not aligned: 3 (dim 1) != 2 (dim 0)"
     ]
    }
   ],
   "source": [
    "C = np.array([[1,2],[3,4]])\n",
    "r5 = np.dot(A, C)"
   ]
  },
  {
   "cell_type": "markdown",
   "id": "e04cc186-ffdf-4571-acfe-1cbf36eb66ea",
   "metadata": {},
   "source": [
    "> 在矩阵的乘积运算中，对应维度的元素个数要保持一致。\n",
    "> 另外，当A是二维矩阵，B是一维矩阵时，对应维度的元素个数要保持一致的原则依然成立。"
   ]
  },
  {
   "cell_type": "code",
   "execution_count": 14,
   "id": "61a7ab3e-eec3-46d7-91f9-c047273914f4",
   "metadata": {},
   "outputs": [
    {
     "name": "stdout",
     "output_type": "stream",
     "text": [
      "(3, 2)\n",
      "(2,)\n",
      "[23 53 83]\n"
     ]
    }
   ],
   "source": [
    "A = np.array([[1,2],[3,4],[5,6]])\n",
    "print(A.shape)\n",
    "B = np.array([7,8])\n",
    "print(B.shape)\n",
    "r6 = np.dot(A, B)\n",
    "# r7 = np.dot(B, A)\n",
    "print(r6)\n",
    "# print(r7)"
   ]
  }
 ],
 "metadata": {
  "kernelspec": {
   "display_name": "dl-started",
   "language": "python",
   "name": "python3"
  },
  "language_info": {
   "codemirror_mode": {
    "name": "ipython",
    "version": 3
   },
   "file_extension": ".py",
   "mimetype": "text/x-python",
   "name": "python",
   "nbconvert_exporter": "python",
   "pygments_lexer": "ipython3",
   "version": "3.10.18"
  }
 },
 "nbformat": 4,
 "nbformat_minor": 5
}
